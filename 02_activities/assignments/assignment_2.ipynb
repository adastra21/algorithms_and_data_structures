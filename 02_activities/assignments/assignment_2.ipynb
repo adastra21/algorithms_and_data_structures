{
 "cells": [
  {
   "cell_type": "markdown",
   "metadata": {},
   "source": [
    "# Practice Interview\n",
    "\n",
    "## Objective\n",
    "\n",
    "_*The partner assignment aims to provide participants with the opportunity to practice coding in an interview context. You will analyze your partner's Assignment 1. Moreover, code reviews are common practice in a software development team. This assignment should give you a taste of the code review process.*_\n",
    "\n",
    "## Group Size\n",
    "\n",
    "Each group should have 2 people. You will be assigned a partner\n",
    "\n",
    "## Part 1:\n",
    "\n",
    "You and your partner must share each other's Assignment 1 submission."
   ]
  },
  {
   "cell_type": "markdown",
   "metadata": {},
   "source": [
    "\n",
    "## Part 2:\n",
    "\n",
    "Create a Jupyter Notebook, create 6 of the following headings, and complete the following for your partner's assignment 1:\n",
    "\n",
    "-   Paraphrase the problem in your own words.\n"
   ]
  },
  {
   "cell_type": "markdown",
   "metadata": {},
   "source": [
    "The problem is to find the missing numbers in a given sequence of numbers."
   ]
  },
  {
   "cell_type": "markdown",
   "metadata": {},
   "source": [
    "\n",
    "-   Create 1 new example that demonstrates you understand the problem. Trace/walkthrough 1 example that your partner made and explain it.\n"
   ]
  },
  {
   "cell_type": "markdown",
   "metadata": {},
   "source": [
    "### Example\n",
    "range_a = [1,10,2,5]  \n",
    "range_a_missing = [3,4,6,7,8,9]\n",
    "\n",
    "Given `range_a`, the problem is to find the missing integers in the sequence from 0 to 10. The missing numbers are 3,4,6,7,8,9.\n",
    "\n",
    "### Partner example\n",
    "range_b = [0, 2]  \n",
    "range_b_missing = [1]\n",
    "\n",
    "One example used by my partner is the range from 0 to 2 in which only 1 is missing."
   ]
  },
  {
   "cell_type": "markdown",
   "metadata": {},
   "source": [
    "\n",
    "-   Copy the solution your partner wrote. \n"
   ]
  },
  {
   "cell_type": "code",
   "execution_count": 1,
   "metadata": {},
   "outputs": [],
   "source": [
    "from typing import List\n",
    "def missing_num(nums: List[int]) -> List[int]:\n",
    "    max_num = max(nums) # Get the maximum value to define the range [0, n]\n",
    "    whole_set = set(range(max_num+1)) # Create a set of all numbers from 0 to n\n",
    "    input_set = set(nums) # Create a set from the input list\n",
    "\n",
    "    missing_values = list(whole_set - input_set) # Find missing numbers by set difference\n",
    "\n",
    "    return sorted(missing_values) if missing_values else -1\n"
   ]
  },
  {
   "cell_type": "markdown",
   "metadata": {},
   "source": [
    "\n",
    "-   Explain why their solution works in your own words.\n"
   ]
  },
  {
   "cell_type": "markdown",
   "metadata": {},
   "source": [
    "The solution works because it takes the difference of two sets. The first set is the one provided as input, and the other set is  the complete sequence of integers from 0 to n. By taking the difference of the two, we are left with a list of integers which are missing from the input."
   ]
  },
  {
   "cell_type": "markdown",
   "metadata": {},
   "source": [
    "\n",
    "-   Explain the problem’s time and space complexity in your own words.\n"
   ]
  },
  {
   "cell_type": "markdown",
   "metadata": {},
   "source": [
    "We can find the time and space complexity by scanning though each step of the function `missing_num`.  \n",
    "* max_num's runtime grows linearly with the size of `nums`. The larger the `nums`, the longer it would take to find its maximum => O(n)\n",
    "* whole_set's runtime grows linearly with max_num+1. The larger the `max_num`, the longer it would take to generate and store the set => O(n)\n",
    "* input_set's runtime depends on the size of `nums`. The larger the `nums`, the longer it would take to iterate through all its elements to convert it into a set => O(n)\n",
    "* missing_values needs to iterate over all elements of `whole_set` to find whether they exist in `input_set` => O(n)\n",
    "* sorted(missing_values) will have a time complexity of n log n => O(n log n)\n",
    "\n",
    "The space complexity is O(n) since it scales linearly with the size of the input.\n",
    "* max_num only stores one number regardless of the size of the input => O(1)\n",
    "* whole_set stores all integers from 0 to `max_num` => O(n)\n",
    "* input_set stores all unique integers in `nums` => O(n)\n",
    "* missing_values will store a maximum of max_num-2 numbers; at least, it will store nothing => ~O(n).\n",
    "* sorted(missing_values) will have a space complexity of max_num-2 numbers at worst; at best, it will sort nothing => ~O(n)"
   ]
  },
  {
   "cell_type": "markdown",
   "metadata": {},
   "source": [
    "\n",
    "-   Critique your partner's solution, including explanation, and if there is anything that should be adjusted.\n"
   ]
  },
  {
   "cell_type": "markdown",
   "metadata": {},
   "source": [
    "Here are three suggestions to improving the solution:\n",
    "1. Missing integers can be found using list comprehension rather than set differencing. This can eliminate the set operations, `whole_set`, `input_set` and `whole_set` - `input_set`.\n",
    "2. It should check for edge cases in the input such as an empty list, nested lists, or 0.\n",
    "3. Sorting can be skipped if the input is expected to be already sorted."
   ]
  },
  {
   "cell_type": "markdown",
   "metadata": {},
   "source": [
    "\n",
    "## Part 3:\n",
    "\n",
    "Please write a 200 word reflection documenting your process from assignment 1, and your presentation and review experience with your partner at the bottom of the Jupyter Notebook under a new heading \"Reflection.\" Again, export this Notebook as pdf.\n"
   ]
  },
  {
   "cell_type": "markdown",
   "metadata": {},
   "source": [
    "### Reflection"
   ]
  },
  {
   "cell_type": "markdown",
   "metadata": {},
   "source": [
    "From assignment 1, I had planned to write a solution which I assumed would not be optimal but got the job done. Question 2 seemed like a relatively easy binary tree problem but the solution took longer than I had expected. I also missed Part 2 because it was hidden locally by VCS for some reason! (I recently commited Part 2 – hopefully it made it in time for my partner's assignment).\n",
    "\n",
    "For assignment 2, Question 3 seemed difficult but my partner's solution was elegant mathematically. I assumed that there would be no way to improve it, but by working through the time and space complexity for each step respectively, I realized that it was also possible to improve such an elegant use of set operations. My main takeway is that thinking deeply about time and space complexity is a great way to review code and find ways to improve it.\n",
    "\n",
    "Overall, I think peer reviews are an underutilized way to get better at programming. They not only replicate real-world code review siutations, but also allow you to feel rewarded twice: once for the _extra_ learning that comes from looking at a peer's code; and the other from contributing to theirs. It's also a free dopamine hit!"
   ]
  },
  {
   "cell_type": "markdown",
   "metadata": {},
   "source": [
    "\n",
    "## Evaluation Criteria\n",
    "\n",
    "We are looking for the similar points as Assignment 1\n",
    "\n",
    "-   Problem is accurately stated\n",
    "\n",
    "-   New example is correct and easily understandable\n",
    "\n",
    "-   Correctness, time, and space complexity of the coding solution\n",
    "\n",
    "-   Clarity in explaining why the solution works, its time and space complexity\n",
    "\n",
    "-   Quality of critique of your partner's assignment, if necessary\n"
   ]
  },
  {
   "cell_type": "markdown",
   "metadata": {},
   "source": [
    "## Submission Information\n",
    "\n",
    "🚨 **Please review our [Assignment Submission Guide](https://github.com/UofT-DSI/onboarding/blob/main/onboarding_documents/submissions.md)** 🚨 for detailed instructions on how to format, branch, and submit your work. Following these guidelines is crucial for your submissions to be evaluated correctly.\n",
    "\n",
    "### Submission Parameters:\n",
    "* Submission Due Date: `HH:MM AM/PM - DD/MM/YYYY`\n",
    "* The branch name for your repo should be: `assignment-2`\n",
    "* What to submit for this assignment:\n",
    "    * This Jupyter Notebook (assignment_2.ipynb) should be populated and should be the only change in your pull request.\n",
    "* What the pull request link should look like for this assignment: `https://github.com/<your_github_username>/algorithms_and_data_structures/pull/<pr_id>`\n",
    "    * Open a private window in your browser. Copy and paste the link to your pull request into the address bar. Make sure you can see your pull request properly. This helps the technical facilitator and learning support staff review your submission easily.\n",
    "\n",
    "Checklist:\n",
    "- [x] Created a branch with the correct naming convention.\n",
    "- [x] Ensured that the repository is public.\n",
    "- [x] Reviewed the PR description guidelines and adhered to them.\n",
    "- [x] Verify that the link is accessible in a private browser window.\n",
    "\n",
    "If you encounter any difficulties or have questions, please don't hesitate to reach out to our team via our Slack at `#cohort-3-help`. Our Technical Facilitators and Learning Support staff are here to help you navigate any challenges.\n"
   ]
  }
 ],
 "metadata": {
  "kernelspec": {
   "display_name": "dsi",
   "language": "python",
   "name": "python3"
  },
  "language_info": {
   "codemirror_mode": {
    "name": "ipython",
    "version": 3
   },
   "file_extension": ".py",
   "mimetype": "text/x-python",
   "name": "python",
   "nbconvert_exporter": "python",
   "pygments_lexer": "ipython3",
   "version": "3.9.16"
  }
 },
 "nbformat": 4,
 "nbformat_minor": 2
}
